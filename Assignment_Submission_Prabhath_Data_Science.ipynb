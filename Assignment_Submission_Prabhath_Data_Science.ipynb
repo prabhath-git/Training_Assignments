{
 "cells": [
  {
   "cell_type": "markdown",
   "metadata": {
    "id": "9f71ccb8-8cd6-455e-9efd-7678515b1c99"
   },
   "source": [
    "# Instructions (Grading Criteria Overview)\n",
    "\n",
    "* Full Points: Working code that yields correct results\n",
    "\n",
    "* You will be graded on the dashboards displaying the specified data and the screenshots you took during the final project lab questions. There are 12 possible points for this assignment. Here is the breakdown: \n",
    "    * Question 1 - Extracting Tesla Stock Data Using yfinance - 2 Points \n",
    "    * Question 2 - Extracting Tesla Revenue Data Using Webscraping - 1 Points\n",
    "    * Question 3 - Extracting GameStop Stock Data Using yfinance - 2 Points\n",
    "    * Question 4 - Extracting GameStop Revenue Data Using Webscraping - 1 Points\n",
    "    * Question 5 - Tesla Stock and Revenue Dashboard - 2 Points\n",
    "    * Question 6 - GameStop Stock and Revenue Dashboard- 2 Points\n",
    "    * Question 7 - Sharing your Assignment Notebook - 2 Points\n",
    "______________________________________________________________ \n",
    "      \n",
    "* For each problem points will be awarded as follows:\n",
    "    *  Full Points: Working code that yields correct results\n",
    "    *  Partial Points: Partially correct code or results\n",
    "    *  No Points: Did not attempt the problem or did not upload any solution\n"
   ]
  },
  {
   "cell_type": "markdown",
   "metadata": {
    "id": "055edd98-5a55-4996-b166-e24e625ad10b"
   },
   "source": [
    "# Assignment: Importing/installing necessary libraries/dependencies"
   ]
  },
  {
   "cell_type": "code",
   "execution_count": 12,
   "metadata": {
    "id": "299b6d01-2d3f-4dc1-a632-76cc024b056f"
   },
   "outputs": [
    {
     "name": "stdout",
     "output_type": "stream",
     "text": [
      "Requirement already satisfied: yfinance in /home/prabhath/my_venv/lib/python3.12/site-packages (0.2.51)\n",
      "Requirement already satisfied: matplotlib in /home/prabhath/my_venv/lib/python3.12/site-packages (3.10.0)\n",
      "Requirement already satisfied: html5lib in /home/prabhath/my_venv/lib/python3.12/site-packages (1.1)\n",
      "Requirement already satisfied: micropip in /home/prabhath/my_venv/lib/python3.12/site-packages (0.8.0)\n",
      "Requirement already satisfied: pandas>=1.3.0 in /home/prabhath/my_venv/lib/python3.12/site-packages (from yfinance) (2.2.3)\n",
      "Requirement already satisfied: numpy>=1.16.5 in /home/prabhath/my_venv/lib/python3.12/site-packages (from yfinance) (2.2.1)\n",
      "Requirement already satisfied: requests>=2.31 in /home/prabhath/my_venv/lib/python3.12/site-packages (from yfinance) (2.32.3)\n",
      "Requirement already satisfied: multitasking>=0.0.7 in /home/prabhath/my_venv/lib/python3.12/site-packages (from yfinance) (0.0.11)\n",
      "Requirement already satisfied: lxml>=4.9.1 in /home/prabhath/my_venv/lib/python3.12/site-packages (from yfinance) (5.3.0)\n",
      "Requirement already satisfied: platformdirs>=2.0.0 in /home/prabhath/my_venv/lib/python3.12/site-packages (from yfinance) (4.3.6)\n",
      "Requirement already satisfied: pytz>=2022.5 in /home/prabhath/my_venv/lib/python3.12/site-packages (from yfinance) (2024.2)\n",
      "Requirement already satisfied: frozendict>=2.3.4 in /home/prabhath/my_venv/lib/python3.12/site-packages (from yfinance) (2.4.6)\n",
      "Requirement already satisfied: peewee>=3.16.2 in /home/prabhath/my_venv/lib/python3.12/site-packages (from yfinance) (3.17.8)\n",
      "Requirement already satisfied: beautifulsoup4>=4.11.1 in /home/prabhath/my_venv/lib/python3.12/site-packages (from yfinance) (4.12.3)\n",
      "Requirement already satisfied: contourpy>=1.0.1 in /home/prabhath/my_venv/lib/python3.12/site-packages (from matplotlib) (1.3.1)\n",
      "Requirement already satisfied: cycler>=0.10 in /home/prabhath/my_venv/lib/python3.12/site-packages (from matplotlib) (0.12.1)\n",
      "Requirement already satisfied: fonttools>=4.22.0 in /home/prabhath/my_venv/lib/python3.12/site-packages (from matplotlib) (4.55.3)\n",
      "Requirement already satisfied: kiwisolver>=1.3.1 in /home/prabhath/my_venv/lib/python3.12/site-packages (from matplotlib) (1.4.8)\n",
      "Requirement already satisfied: packaging>=20.0 in /home/prabhath/my_venv/lib/python3.12/site-packages (from matplotlib) (24.2)\n",
      "Requirement already satisfied: pillow>=8 in /home/prabhath/my_venv/lib/python3.12/site-packages (from matplotlib) (11.1.0)\n",
      "Requirement already satisfied: pyparsing>=2.3.1 in /home/prabhath/my_venv/lib/python3.12/site-packages (from matplotlib) (3.2.1)\n",
      "Requirement already satisfied: python-dateutil>=2.7 in /home/prabhath/my_venv/lib/python3.12/site-packages (from matplotlib) (2.9.0.post0)\n",
      "Requirement already satisfied: six>=1.9 in /home/prabhath/my_venv/lib/python3.12/site-packages (from html5lib) (1.17.0)\n",
      "Requirement already satisfied: webencodings in /home/prabhath/my_venv/lib/python3.12/site-packages (from html5lib) (0.5.1)\n",
      "Requirement already satisfied: soupsieve>1.2 in /home/prabhath/my_venv/lib/python3.12/site-packages (from beautifulsoup4>=4.11.1->yfinance) (2.6)\n",
      "Requirement already satisfied: tzdata>=2022.7 in /home/prabhath/my_venv/lib/python3.12/site-packages (from pandas>=1.3.0->yfinance) (2024.2)\n",
      "Requirement already satisfied: charset-normalizer<4,>=2 in /home/prabhath/my_venv/lib/python3.12/site-packages (from requests>=2.31->yfinance) (3.4.0)\n",
      "Requirement already satisfied: idna<4,>=2.5 in /home/prabhath/my_venv/lib/python3.12/site-packages (from requests>=2.31->yfinance) (3.10)\n",
      "Requirement already satisfied: urllib3<3,>=1.21.1 in /home/prabhath/my_venv/lib/python3.12/site-packages (from requests>=2.31->yfinance) (2.2.3)\n",
      "Requirement already satisfied: certifi>=2017.4.17 in /home/prabhath/my_venv/lib/python3.12/site-packages (from requests>=2.31->yfinance) (2024.8.30)\n",
      "Note: you may need to restart the kernel to use updated packages.\n"
     ]
    }
   ],
   "source": [
    "# yfiannce was not found in the libraries, so installing it\n",
    "%pip install yfinance matplotlib html5lib micropip"
   ]
  },
  {
   "cell_type": "code",
   "execution_count": 13,
   "metadata": {
    "id": "616ff567-066e-4419-9ce1-66ebedd358f3"
   },
   "outputs": [],
   "source": [
    "# Importing all necessary libraries/dependencies to complete the task\n",
    "from bs4 import BeautifulSoup\n",
    "import requests  \n",
    "import yfinance as yf \n",
    "import pandas as pd\n",
    "import matplotlib.pyplot as plt \n",
    "import numpy as np\n",
    "import html5lib \n"
   ]
  },
  {
   "cell_type": "markdown",
   "metadata": {
    "id": "cf410e12-a650-45ec-abc7-938f11195cc8"
   },
   "source": [
    "# Question 1: Use yfinance to Extract Stock Data (Tesla)\n",
    "\n",
    "Reset the index, save, and display the first five rows of the tesla_data dataframe using the head function. Upload a screenshot of the results and code from the beginning of Question 1 to the results below."
   ]
  },
  {
   "cell_type": "code",
   "execution_count": 14,
   "metadata": {
    "id": "32410e14-051d-416f-a4a9-0c54366b73f0"
   },
   "outputs": [],
   "source": [
    "# Importing all necessary libraries/dependencies to complete the task\n",
    "from bs4 import BeautifulSoup\n",
    "import requests  \n",
    "import yfinance as yf \n",
    "import pandas as pd\n",
    "import matplotlib.pyplot as plt \n",
    "\n",
    "# Using the Ticker function to enter the ticker symbol of Tesla Stock\n",
    "tesla = yf.Ticker(\"TSLA\")\n",
    "\n",
    "# Using history function to extract stock information and save it in dataframe named tesla_data\n",
    "tesla_data = tesla.history(period=\"max\")\n"
   ]
  },
  {
   "cell_type": "code",
   "execution_count": 15,
   "metadata": {
    "id": "8e2bef11-8e9d-4716-9045-babfad8ba2e4"
   },
   "outputs": [
    {
     "data": {
      "text/html": [
       "<div>\n",
       "<style scoped>\n",
       "    .dataframe tbody tr th:only-of-type {\n",
       "        vertical-align: middle;\n",
       "    }\n",
       "\n",
       "    .dataframe tbody tr th {\n",
       "        vertical-align: top;\n",
       "    }\n",
       "\n",
       "    .dataframe thead th {\n",
       "        text-align: right;\n",
       "    }\n",
       "</style>\n",
       "<table border=\"1\" class=\"dataframe\">\n",
       "  <thead>\n",
       "    <tr style=\"text-align: right;\">\n",
       "      <th></th>\n",
       "      <th>Date</th>\n",
       "      <th>Open</th>\n",
       "      <th>High</th>\n",
       "      <th>Low</th>\n",
       "      <th>Close</th>\n",
       "      <th>Volume</th>\n",
       "      <th>Dividends</th>\n",
       "      <th>Stock Splits</th>\n",
       "    </tr>\n",
       "  </thead>\n",
       "  <tbody>\n",
       "    <tr>\n",
       "      <th>0</th>\n",
       "      <td>2010-06-29 00:00:00-04:00</td>\n",
       "      <td>1.266667</td>\n",
       "      <td>1.666667</td>\n",
       "      <td>1.169333</td>\n",
       "      <td>1.592667</td>\n",
       "      <td>281494500</td>\n",
       "      <td>0.0</td>\n",
       "      <td>0.0</td>\n",
       "    </tr>\n",
       "    <tr>\n",
       "      <th>1</th>\n",
       "      <td>2010-06-30 00:00:00-04:00</td>\n",
       "      <td>1.719333</td>\n",
       "      <td>2.028000</td>\n",
       "      <td>1.553333</td>\n",
       "      <td>1.588667</td>\n",
       "      <td>257806500</td>\n",
       "      <td>0.0</td>\n",
       "      <td>0.0</td>\n",
       "    </tr>\n",
       "    <tr>\n",
       "      <th>2</th>\n",
       "      <td>2010-07-01 00:00:00-04:00</td>\n",
       "      <td>1.666667</td>\n",
       "      <td>1.728000</td>\n",
       "      <td>1.351333</td>\n",
       "      <td>1.464000</td>\n",
       "      <td>123282000</td>\n",
       "      <td>0.0</td>\n",
       "      <td>0.0</td>\n",
       "    </tr>\n",
       "    <tr>\n",
       "      <th>3</th>\n",
       "      <td>2010-07-02 00:00:00-04:00</td>\n",
       "      <td>1.533333</td>\n",
       "      <td>1.540000</td>\n",
       "      <td>1.247333</td>\n",
       "      <td>1.280000</td>\n",
       "      <td>77097000</td>\n",
       "      <td>0.0</td>\n",
       "      <td>0.0</td>\n",
       "    </tr>\n",
       "    <tr>\n",
       "      <th>4</th>\n",
       "      <td>2010-07-06 00:00:00-04:00</td>\n",
       "      <td>1.333333</td>\n",
       "      <td>1.333333</td>\n",
       "      <td>1.055333</td>\n",
       "      <td>1.074000</td>\n",
       "      <td>103003500</td>\n",
       "      <td>0.0</td>\n",
       "      <td>0.0</td>\n",
       "    </tr>\n",
       "  </tbody>\n",
       "</table>\n",
       "</div>"
      ],
      "text/plain": [
       "                       Date      Open      High       Low     Close  \\\n",
       "0 2010-06-29 00:00:00-04:00  1.266667  1.666667  1.169333  1.592667   \n",
       "1 2010-06-30 00:00:00-04:00  1.719333  2.028000  1.553333  1.588667   \n",
       "2 2010-07-01 00:00:00-04:00  1.666667  1.728000  1.351333  1.464000   \n",
       "3 2010-07-02 00:00:00-04:00  1.533333  1.540000  1.247333  1.280000   \n",
       "4 2010-07-06 00:00:00-04:00  1.333333  1.333333  1.055333  1.074000   \n",
       "\n",
       "      Volume  Dividends  Stock Splits  \n",
       "0  281494500        0.0           0.0  \n",
       "1  257806500        0.0           0.0  \n",
       "2  123282000        0.0           0.0  \n",
       "3   77097000        0.0           0.0  \n",
       "4  103003500        0.0           0.0  "
      ]
     },
     "execution_count": 15,
     "metadata": {},
     "output_type": "execute_result"
    }
   ],
   "source": [
    "# Reset save and display the first five rows of the tesla_data DataFrame using the head function\n",
    "tesla_data.reset_index(inplace=True)\n",
    "tesla_data.head()"
   ]
  },
  {
   "cell_type": "markdown",
   "metadata": {
    "id": "4933f36a-958f-482e-a3dc-ad5d47b9ea3f"
   },
   "source": [
    "# Question 2: Use Webscraping to Extract Tesla Revenue Data(Tesla)\n",
    "Display the last five rows of the tesla_revenue dataframe using the tail function. Upload a screenshot of the results."
   ]
  },
  {
   "cell_type": "code",
   "execution_count": 16,
   "metadata": {},
   "outputs": [
    {
     "name": "stdout",
     "output_type": "stream",
     "text": [
      "          Date Revenue\n",
      "57  2010-06-30      28\n",
      "58  2010-03-31      21\n",
      "59  2009-12-31        \n",
      "60  2009-09-30      46\n",
      "61  2009-06-30      27\n"
     ]
    }
   ],
   "source": [
    "# Important note/update: Read this before you proceed any further\n",
    "    # The training content needs to be revamped to include all necessary information before asking participants to submit their responses\n",
    "    # Found this URL for data, in one of the comments in discussions, shared by a verified staff in response to someone's query\n",
    "    # When I clicked on the 'Revenue' tab on that link, it led me to 'macrotrends' site that you'll find here\n",
    "\n",
    "from bs4 import BeautifulSoup\n",
    "import requests\n",
    "import time\n",
    "import re\n",
    "\n",
    "def get_tesla_revenue_data():\n",
    "    \"\"\"\n",
    "    Fetches Tesla's quarterly revenue data from Macrotrends.net.\n",
    "\n",
    "    Returns:\n",
    "        pandas.DataFrame: A DataFrame containing the date and revenue data.\n",
    "    \"\"\"\n",
    "\n",
    "    url = \"https://www.macrotrends.net/stocks/charts/TSLA/tesla/revenue\"\n",
    "\n",
    "    headers = {\n",
    "        \"User-Agent\": \"Mozilla/5.0 (Windows NT 10.0; Win64; x64) AppleWebKit/537.36 (KHTML, like Gecko) Chrome/113.0.0.0 Safari/537.36\"\n",
    "    }\n",
    "\n",
    "    try:\n",
    "        response = requests.get(url, headers=headers)\n",
    "        response.raise_for_status()  # Raise an exception for bad status codes\n",
    "    except requests.exceptions.RequestException as e:\n",
    "        print(f\"Error fetching data: {e}\")\n",
    "        return None\n",
    "\n",
    "    soup = BeautifulSoup(response.content, \"html.parser\")\n",
    "\n",
    "    # Attempt to find the revenue table (to be adjusted based on HTML inspection)\n",
    "    tables = soup.find_all(\"table\")\n",
    "    for table in tables:\n",
    "        if \"Tesla Quarterly Revenue\" in table.text:\n",
    "            rows = table.find_all(\"tr\")\n",
    "            break  # Exit the loop after finding the desired table\n",
    "\n",
    "    if not rows:\n",
    "        print(\"Revenue table not found.\")\n",
    "        return None\n",
    "\n",
    "    data = []\n",
    "    for row in rows[1:]:  # Skip the header row\n",
    "        cols = row.find_all(\"td\")\n",
    "        if len(cols) >= 2:\n",
    "            date = cols[0].text.strip()\n",
    "            revenue = cols[1].text.strip().replace(\"$\", \"\").replace(\",\", \"\")\n",
    "            data.append({\"Date\": date, \"Revenue\": revenue})\n",
    "\n",
    "    return pd.DataFrame(data)\n",
    "\n",
    "if __name__ == \"__main__\":\n",
    "    tesla_revenue = get_tesla_revenue_data()\n",
    "\n",
    "    if tesla_revenue is not None:\n",
    "        print(tesla_revenue.tail())\n",
    "    else:\n",
    "        print(\"Data extraction failed.\")"
   ]
  },
  {
   "cell_type": "markdown",
   "metadata": {
    "id": "47953d94-23ff-40d3-a2b2-9d0a508dd0d2"
   },
   "source": [
    "# Question 3: Use yfinance to Extract Stock Data(GameStop)\n",
    "\n",
    "Reset the index, save, and display the first five rows of the gme_data dataframe using the head function. Upload a screenshot of the results and code from the beginning of Question 1 to the results below.# Assignment: 2 | GameStop Stock Data analysis"
   ]
  },
  {
   "cell_type": "code",
   "execution_count": 17,
   "metadata": {
    "id": "71cb694d-8717-4d2e-8f19-c2a63f339da6"
   },
   "outputs": [],
   "source": [
    "# Importing all necessary libraries/dependencies to complete the task\n",
    "from bs4 import BeautifulSoup\n",
    "import requests  \n",
    "import yfinance as yf \n",
    "import pandas as pd\n",
    "import matplotlib.pyplot as plt \n",
    "\n",
    "# Using the Ticker function to enter the ticker symbol of GameStop Stock\n",
    "gamestop = yf.Ticker(\"GME\")\n",
    "\n",
    "# Using history function to extract stock information and save it in dataframe named gme_data\n",
    "gme_data = gamestop.history(period=\"max\")\n"
   ]
  },
  {
   "cell_type": "code",
   "execution_count": 18,
   "metadata": {
    "id": "77f3791b-fdfb-4b2f-a62f-38c86b06398a"
   },
   "outputs": [
    {
     "data": {
      "text/html": [
       "<div>\n",
       "<style scoped>\n",
       "    .dataframe tbody tr th:only-of-type {\n",
       "        vertical-align: middle;\n",
       "    }\n",
       "\n",
       "    .dataframe tbody tr th {\n",
       "        vertical-align: top;\n",
       "    }\n",
       "\n",
       "    .dataframe thead th {\n",
       "        text-align: right;\n",
       "    }\n",
       "</style>\n",
       "<table border=\"1\" class=\"dataframe\">\n",
       "  <thead>\n",
       "    <tr style=\"text-align: right;\">\n",
       "      <th></th>\n",
       "      <th>Date</th>\n",
       "      <th>Open</th>\n",
       "      <th>High</th>\n",
       "      <th>Low</th>\n",
       "      <th>Close</th>\n",
       "      <th>Volume</th>\n",
       "      <th>Dividends</th>\n",
       "      <th>Stock Splits</th>\n",
       "    </tr>\n",
       "  </thead>\n",
       "  <tbody>\n",
       "    <tr>\n",
       "      <th>0</th>\n",
       "      <td>2002-02-13 00:00:00-05:00</td>\n",
       "      <td>1.620128</td>\n",
       "      <td>1.693350</td>\n",
       "      <td>1.603296</td>\n",
       "      <td>1.691666</td>\n",
       "      <td>76216000</td>\n",
       "      <td>0.0</td>\n",
       "      <td>0.0</td>\n",
       "    </tr>\n",
       "    <tr>\n",
       "      <th>1</th>\n",
       "      <td>2002-02-14 00:00:00-05:00</td>\n",
       "      <td>1.712707</td>\n",
       "      <td>1.716074</td>\n",
       "      <td>1.670626</td>\n",
       "      <td>1.683250</td>\n",
       "      <td>11021600</td>\n",
       "      <td>0.0</td>\n",
       "      <td>0.0</td>\n",
       "    </tr>\n",
       "    <tr>\n",
       "      <th>2</th>\n",
       "      <td>2002-02-15 00:00:00-05:00</td>\n",
       "      <td>1.683251</td>\n",
       "      <td>1.687459</td>\n",
       "      <td>1.658002</td>\n",
       "      <td>1.674834</td>\n",
       "      <td>8389600</td>\n",
       "      <td>0.0</td>\n",
       "      <td>0.0</td>\n",
       "    </tr>\n",
       "    <tr>\n",
       "      <th>3</th>\n",
       "      <td>2002-02-19 00:00:00-05:00</td>\n",
       "      <td>1.666418</td>\n",
       "      <td>1.666418</td>\n",
       "      <td>1.578047</td>\n",
       "      <td>1.607504</td>\n",
       "      <td>7410400</td>\n",
       "      <td>0.0</td>\n",
       "      <td>0.0</td>\n",
       "    </tr>\n",
       "    <tr>\n",
       "      <th>4</th>\n",
       "      <td>2002-02-20 00:00:00-05:00</td>\n",
       "      <td>1.615921</td>\n",
       "      <td>1.662210</td>\n",
       "      <td>1.603296</td>\n",
       "      <td>1.662210</td>\n",
       "      <td>6892800</td>\n",
       "      <td>0.0</td>\n",
       "      <td>0.0</td>\n",
       "    </tr>\n",
       "  </tbody>\n",
       "</table>\n",
       "</div>"
      ],
      "text/plain": [
       "                       Date      Open      High       Low     Close    Volume  \\\n",
       "0 2002-02-13 00:00:00-05:00  1.620128  1.693350  1.603296  1.691666  76216000   \n",
       "1 2002-02-14 00:00:00-05:00  1.712707  1.716074  1.670626  1.683250  11021600   \n",
       "2 2002-02-15 00:00:00-05:00  1.683251  1.687459  1.658002  1.674834   8389600   \n",
       "3 2002-02-19 00:00:00-05:00  1.666418  1.666418  1.578047  1.607504   7410400   \n",
       "4 2002-02-20 00:00:00-05:00  1.615921  1.662210  1.603296  1.662210   6892800   \n",
       "\n",
       "   Dividends  Stock Splits  \n",
       "0        0.0           0.0  \n",
       "1        0.0           0.0  \n",
       "2        0.0           0.0  \n",
       "3        0.0           0.0  \n",
       "4        0.0           0.0  "
      ]
     },
     "execution_count": 18,
     "metadata": {},
     "output_type": "execute_result"
    }
   ],
   "source": [
    "# Reset save and display the first five rows of the gme_data DataFrame using the head function\n",
    "gme_data.reset_index(inplace=True)\n",
    "gme_data.head()"
   ]
  },
  {
   "cell_type": "markdown",
   "metadata": {
    "id": "62163e5d-a973-41e0-8e92-d5f215db0bc8"
   },
   "source": [
    "# Question 4: Use Webscraping to Extract GME Revenue Data(GameStop)\n",
    "\n",
    "Display the last five rows of the gme_revenue dataframe using the tail function. Upload a screenshot of the results."
   ]
  },
  {
   "cell_type": "code",
   "execution_count": 19,
   "metadata": {},
   "outputs": [
    {
     "name": "stdout",
     "output_type": "stream",
     "text": [
      "          Date Revenue\n",
      "57  2006-01-31    1667\n",
      "58  2005-10-31     534\n",
      "59  2005-07-31     416\n",
      "60  2005-04-30     475\n",
      "61  2005-01-31     709\n"
     ]
    }
   ],
   "source": [
    "from bs4 import BeautifulSoup\n",
    "import requests\n",
    "import pandas as pd\n",
    "\n",
    "def get_stock_revenue_data(url):\n",
    "    \"\"\"\n",
    "    Fetches quarterly revenue data from the specified URL.\n",
    "\n",
    "    Args:\n",
    "        url (str): The URL of the webpage containing the revenue data.\n",
    "\n",
    "    Returns:\n",
    "        pandas.DataFrame: A DataFrame containing the date and revenue data.\n",
    "        None: If data extraction fails.\n",
    "    \"\"\"\n",
    "\n",
    "    try:\n",
    "        response = requests.get(url)\n",
    "        response.raise_for_status()  # Raise an exception for bad status codes\n",
    "    except requests.exceptions.RequestException as e:\n",
    "        print(f\"Error fetching data from the URL: {e}\")\n",
    "        return None\n",
    "\n",
    "    soup = BeautifulSoup(response.content, \"html.parser\")\n",
    "\n",
    "    # Attempt to find the revenue table (to be adjusted based on HTML inspection)\n",
    "    tables = soup.find_all(\"table\")\n",
    "    for table in tables:\n",
    "        if \"GameStop Quarterly Revenue\" in table.text: \n",
    "            rows = table.find_all(\"tr\")\n",
    "            break  # Exit the loop after finding the desired table\n",
    "\n",
    "    if not rows:\n",
    "        print(\"Revenue table not found.\")\n",
    "        return None\n",
    "\n",
    "    data = []\n",
    "    for row in rows[1:]:  # Skip the header row\n",
    "        cols = row.find_all(\"td\")\n",
    "        if len(cols) >= 2:\n",
    "            try:\n",
    "                date = cols[0].text.strip() \n",
    "                revenue = cols[1].text.strip().replace(\"$\", \"\").replace(\",\", \"\")\n",
    "                data.append({\"Date\": date, \"Revenue\": revenue})\n",
    "            except Exception as e:\n",
    "                print(f\"Error parsing data in row: {e}\")\n",
    "\n",
    "    gme_revenue = pd.DataFrame(data)\n",
    "    return gme_revenue\n",
    "\n",
    "if __name__ == \"__main__\":\n",
    "    # Define the URL\n",
    "    game_stop_url = \"https://web.archive.org/web/20200814131437/https://www.macrotrends.net/stocks/charts/GME/gamestop/revenue\" \n",
    "\n",
    "    gme_revenue = get_stock_revenue_data(game_stop_url)\n",
    "\n",
    "    if gme_revenue is not None:\n",
    "        print(gme_revenue.tail())\n",
    "    else:\n",
    "        print(\"Data extraction failed.\")"
   ]
  },
  {
   "cell_type": "markdown",
   "metadata": {
    "id": "a4edad07-8ba7-490b-8432-bf60b7f63493"
   },
   "source": [
    "# Question 5: Plot Tesla Stock Graph(Tesla)\n",
    "\n",
    "Use the make_graph function to graph the Tesla Stock Data, also provide a title for the graph.\n",
    "\n",
    "Upload a screenshot of your results."
   ]
  },
  {
   "cell_type": "code",
   "execution_count": 20,
   "metadata": {
    "id": "396fcca1-2b40-458b-b37f-5236d7f9d4b5"
   },
   "outputs": [
    {
     "data": {
      "image/png": "[encoded data removed]",
      "text/plain": [
       "<Figure size 500x200 with 1 Axes>"
      ]
     },
     "metadata": {},
     "output_type": "display_data"
    }
   ],
   "source": [
    "# Creating the plot for Tesla Stock:\n",
    "\n",
    "# Step 1: Import necessary libraries/dependencies to complete this task\n",
    "import yfinance as yf\n",
    "import pandas as pd\n",
    "import matplotlib.pyplot as plt\n",
    "\n",
    "# Step 2: Define the custom function 'make_graph' \n",
    "def make_graph(df, title):\n",
    "    \"\"\"\n",
    "    Plots the 'Close' column of the given DataFrame.\n",
    "\n",
    "    Args:\n",
    "        df: The DataFrame containing the stock data.\n",
    "        title: The title for the plot.\n",
    "    \"\"\"\n",
    "    plt.figure(figsize=(5, 2)) # the dimension size could vary as needed\n",
    "    plt.plot(df['Date'], df['Close']) \n",
    "    plt.title(title)\n",
    "    plt.xlabel('Date')\n",
    "    plt.ylabel('Closing Price')\n",
    "    plt.grid(True) \n",
    "    plt.show()\n",
    "\n",
    "# Step 3: Download Tesla stock data\n",
    "tesla = yf.Ticker(\"TSLA\")\n",
    "tesla_data = tesla.history(period=\"max\") \n",
    "\n",
    "# Step 4: Reset the index \n",
    "tesla_data.reset_index(inplace=True) \n",
    "\n",
    "# Step 5: Call the make_graph function\n",
    "make_graph(tesla_data, \"Tesla Stock Price\")"
   ]
  },
  {
   "cell_type": "markdown",
   "metadata": {
    "id": "c6d361dd-3ea3-4271-9915-4347f9700ffa"
   },
   "source": [
    "# Question 6: Plot GameStop Stock Graph(GameStop)\n",
    "\n",
    "Use the make_graph function to graph the GameStop Stock Data, also provide a title for the graph.\n",
    "\n",
    "Upload a screenshot of your results."
   ]
  },
  {
   "cell_type": "code",
   "execution_count": 21,
   "metadata": {
    "id": "51618955-37a5-4fcd-8a12-18cc71f3ad0a"
   },
   "outputs": [
    {
     "data": {
      "image/png": "[encoded data removed]",
      "text/plain": [
       "<Figure size 500x200 with 1 Axes>"
      ]
     },
     "metadata": {},
     "output_type": "display_data"
    }
   ],
   "source": [
    "# Creating the plot for GeameStop Stock:\n",
    "\n",
    "# Step 1: Import necessary libraries/dependencies to complete this task\n",
    "import yfinance as yf\n",
    "import pandas as pd\n",
    "import matplotlib.pyplot as plt\n",
    "\n",
    "# Step 2: Define the custom function 'make_graph' \n",
    "def make_graph(df, title):\n",
    "    \"\"\"\n",
    "    Plots the 'Close' column of the given DataFrame.\n",
    "\n",
    "    Args:\n",
    "        df: The DataFrame containing the stock data.\n",
    "        title: The title for the plot.\n",
    "    \"\"\"\n",
    "    plt.figure(figsize=(5, 2)) # the dimension size could vary as needed\n",
    "    plt.plot(df['Date'], df['Close']) \n",
    "    plt.title(title)\n",
    "    plt.xlabel('Date')\n",
    "    plt.ylabel('Closing Price')\n",
    "    plt.grid(True) \n",
    "    plt.show()\n",
    "\n",
    "# Step 3: Download GameStop stock data\n",
    "gamestop = yf.Ticker(\"GME\")\n",
    "gamestop_data = gamestop.history(period=\"max\") \n",
    "\n",
    "# Step 4: Reset the index \n",
    "gamestop_data.reset_index(inplace=True) \n",
    "\n",
    "# Step 5: Call the make_graph function\n",
    "make_graph(gamestop_data, \"GameStop Stock Price\")"
   ]
  },
  {
   "cell_type": "code",
   "execution_count": null,
   "metadata": {
    "id": "6fc4d24e-ebbb-454e-8cd6-f4b7e80e6d25"
   },
   "outputs": [],
   "source": []
  }
 ],
 "metadata": {
  "kernelspec": {
   "display_name": "my_python3_env",
   "language": "python",
   "name": "my_python3_env"
  },
  "language_info": {
   "codemirror_mode": {
    "name": "ipython",
    "version": 3
   },
   "file_extension": ".py",
   "mimetype": "text/x-python",
   "name": "python",
   "nbconvert_exporter": "python",
   "pygments_lexer": "ipython3",
   "version": "3.12.3"
  }
 },
 "nbformat": 4,
 "nbformat_minor": 4
}
